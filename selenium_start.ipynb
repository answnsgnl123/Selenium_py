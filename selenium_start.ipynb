{
 "cells": [
  {
   "cell_type": "markdown",
   "id": "20cf3fbb",
   "metadata": {},
   "source": [
    "# 크롬 드라이버 다운로드"
   ]
  },
  {
   "cell_type": "code",
   "execution_count": 1,
   "id": "5d9c002c",
   "metadata": {},
   "outputs": [
    {
     "name": "stdout",
     "output_type": "stream",
     "text": [
      "--2022-10-27 13:45:41--  https://chromedriver.storage.googleapis.com/107.0.5304.62/chromedriver_linux64.zip\n",
      "Resolving chromedriver.storage.googleapis.com (chromedriver.storage.googleapis.com)... 34.64.4.48, 2404:f340:10:1801::2010\n",
      "Connecting to chromedriver.storage.googleapis.com (chromedriver.storage.googleapis.com)|34.64.4.48|:443... connected.\n",
      "HTTP request sent, awaiting response... 200 OK\n",
      "Length: 7612689 (7.3M) [application/zip]\n",
      "Saving to: ‘chromedriver_linux64.zip’\n",
      "\n",
      "chromedriver_linux6 100%[===================>]   7.26M  9.86MB/s    in 0.7s    \n",
      "\n",
      "2022-10-27 13:45:42 (9.86 MB/s) - ‘chromedriver_linux64.zip’ saved [7612689/7612689]\n",
      "\n"
     ]
    }
   ],
   "source": [
    "!wget -N https://chromedriver.storage.googleapis.com/107.0.5304.62/chromedriver_linux64.zip"
   ]
  },
  {
   "cell_type": "code",
   "execution_count": 2,
   "id": "3dc29ebf",
   "metadata": {},
   "outputs": [
    {
     "name": "stdout",
     "output_type": "stream",
     "text": [
      "Untitled.ipynb\tchromedriver_linux64.zip\r\n"
     ]
    }
   ],
   "source": [
    "!ls"
   ]
  },
  {
   "cell_type": "code",
   "execution_count": 3,
   "id": "22217382",
   "metadata": {},
   "outputs": [
    {
     "name": "stdout",
     "output_type": "stream",
     "text": [
      "Archive:  chromedriver_linux64.zip\n",
      "  inflating: chromedriver            \n"
     ]
    }
   ],
   "source": [
    "!unzip chromedriver_linux64.zip"
   ]
  },
  {
   "cell_type": "code",
   "execution_count": 7,
   "id": "472200d5",
   "metadata": {},
   "outputs": [
    {
     "name": "stdout",
     "output_type": "stream",
     "text": [
      "total 22236\r\n",
      "drwxr-xr-x  3 root root     4096 10월 27 13:46 .\r\n",
      "drwxr-xr-x 11 root root     4096 10월 27 13:44 ..\r\n",
      "drwxr-xr-x  2 root root     4096 10월 27 13:45 .ipynb_checkpoints\r\n",
      "-rw-r--r--  1 root root       72 10월 27 13:45 Untitled.ipynb\r\n",
      "-rwxr-xr-x  1 root root 15134768 10월 20 12:29 chromedriver\r\n",
      "-rw-r--r--  1 root root  7612689 10월 25 21:20 chromedriver_linux64.zip\r\n"
     ]
    }
   ],
   "source": [
    "!ls -all"
   ]
  },
  {
   "cell_type": "markdown",
   "id": "5a1e3c6e",
   "metadata": {},
   "source": [
    "## chrom --version  확인\n",
    "[버전맞는 driver download]\n",
    "- https://sites.google.com/chromium.org/driver/"
   ]
  },
  {
   "cell_type": "code",
   "execution_count": 23,
   "id": "5853fd4a",
   "metadata": {},
   "outputs": [
    {
     "name": "stdout",
     "output_type": "stream",
     "text": [
      "Google Chrome 107.0.5304.68 \r\n"
     ]
    }
   ],
   "source": [
    "!google-chrome --version "
   ]
  },
  {
   "cell_type": "markdown",
   "id": "eb61bf7c",
   "metadata": {},
   "source": [
    "## 셀레니움 사용하기"
   ]
  },
  {
   "cell_type": "code",
   "execution_count": 31,
   "id": "3b9f4e45",
   "metadata": {},
   "outputs": [],
   "source": [
    "from pyvirtualdisplay import Display \n",
    "from selenium import webdriver"
   ]
  },
  {
   "cell_type": "code",
   "execution_count": 32,
   "id": "a6748e55",
   "metadata": {},
   "outputs": [
    {
     "name": "stderr",
     "output_type": "stream",
     "text": [
      "/tmp/ipykernel_483168/3283171488.py:7: DeprecationWarning: executable_path has been deprecated, please pass in a Service object\n",
      "  driver = webdriver.Chrome(path, chrome_options=chrome_options)\n",
      "/tmp/ipykernel_483168/3283171488.py:7: DeprecationWarning: use options instead of chrome_options\n",
      "  driver = webdriver.Chrome(path, chrome_options=chrome_options)\n"
     ]
    }
   ],
   "source": [
    "chrome_options = webdriver.ChromeOptions()\n",
    "chrome_options.add_argument('--headless')\n",
    "chrome_options.add_argument('--no-sandbox')\n",
    "chrome_options.add_argument(\"--single-process\")\n",
    "chrome_options.add_argument(\"--disable-dev-shm-usage\")\n",
    "path='/home/jun/test/chromedriver'\n",
    "driver = webdriver.Chrome(path, chrome_options=chrome_options)"
   ]
  },
  {
   "cell_type": "code",
   "execution_count": 33,
   "id": "29ac3497",
   "metadata": {},
   "outputs": [
    {
     "name": "stdout",
     "output_type": "stream",
     "text": [
      "/home/jun/test/chromedriver\n",
      "https://www.youtube.com/watch?v=CnjISCJgcVI\n"
     ]
    }
   ],
   "source": [
    "\n",
    "print(path)\n",
    "\n",
    "display = Display(visible=0, size=(1920, 1080)) \n",
    "display.start() \n",
    "\n",
    "\n",
    "driver.get(\"https://www.youtube.com/watch?v=CnjISCJgcVI\") \n",
    "print(driver.current_url) # 현재 url 출력"
   ]
  },
  {
   "cell_type": "code",
   "execution_count": 34,
   "id": "ba76886a",
   "metadata": {},
   "outputs": [
    {
     "name": "stdout",
     "output_type": "stream",
     "text": [
      "https://www.youtube.com/watch?v=CnjISCJgcVI\n"
     ]
    }
   ],
   "source": [
    "print(driver.current_url)"
   ]
  },
  {
   "cell_type": "code",
   "execution_count": 35,
   "id": "6fdeef07",
   "metadata": {},
   "outputs": [
    {
     "name": "stdout",
     "output_type": "stream",
     "text": [
      "https://www.youtube.com/watch?v=CnjISCJgcVI\n"
     ]
    }
   ],
   "source": [
    "print(driver.current_url)"
   ]
  },
  {
   "cell_type": "code",
   "execution_count": 36,
   "id": "bb3dbbfa",
   "metadata": {},
   "outputs": [],
   "source": [
    "import time"
   ]
  },
  {
   "cell_type": "code",
   "execution_count": 41,
   "id": "12445dcb",
   "metadata": {},
   "outputs": [],
   "source": [
    "driver.get('https://www.youtube.com/watch?v=hSvrsWGOAWU')"
   ]
  },
  {
   "cell_type": "code",
   "execution_count": 42,
   "id": "cda06b1f",
   "metadata": {},
   "outputs": [],
   "source": [
    "context_text = []"
   ]
  },
  {
   "cell_type": "code",
   "execution_count": 44,
   "id": "45ae96ef",
   "metadata": {},
   "outputs": [],
   "source": [
    "from bs4 import BeautifulSoup"
   ]
  },
  {
   "cell_type": "code",
   "execution_count": 45,
   "id": "4128b565",
   "metadata": {},
   "outputs": [
    {
     "name": "stdout",
     "output_type": "stream",
     "text": [
      "19\n",
      "𝒕𝒊𝒎𝒆𝒍𝒊𝒏𝒆\n",
      "\n",
      "00:00 막내\n",
      "03:53 Bunny\n",
      "07:50 Popo (How deep is our love?)\n",
      "12:19 Datoom\n",
      "16:10 Lovegame\n",
      "19:42 그게 나였네\n",
      "23:02 “HOMESWEETHOME”(윤석철 Remix)\n",
      "27:00 한계\n",
      "30:49 어느 새\n",
      "35:00 We are all Muse\n",
      "39:25 물고기 \n",
      "43:11 왜?날\n",
      "47:15 0310\n",
      "51:12 Not a girl\n",
      "55:00 Hate you \n",
      "58:33 I am not your ocean anymore\n",
      "1:01:52  I’ll Be Your Family!\n",
      "1:05:41 돌아가자\n",
      "1:09:43 Antifreeze\n",
      "1:13:48 Square(2017)\n",
      "\n",
      " 광고는 자동으로 삽입됩니다.\n",
      " 영상으로 인한 광고 수익은 음원 저작권자에게 모두 돌아갑니다.\n",
      "\n",
      "\n",
      "#playlist #플레이리스트#백예린노래모음\n",
      "such a chill blissful music for all those blue afternoons to make you feel everything you are feeling, absolutly lovely\n",
      "음색 진짜 넘 좋아ㅠㅠㅠㅠ\n",
      "노래 너무 잘 듣고 있어요  플레이리스트 처음부터 끝까지 완벽합니당 ,,,\n",
      "노래 너무 좋아요 백예린 화이팅!! 헤헤\n",
      "너어어어무 좋아용 역시....🫶예린백 좋은 플리 감사합니다️️\n",
      "개인적으로 예린퀸은 가사가 영어랑 더잘어울리는거같아요.. 물론 한글가사도 좋아요\n",
      "헉 “HOMESWEETHOME”(윤석철 Remix) 곡 사랑하시는 구나.. 저도요 리믹스 너무 사랑해요ㅠ\n",
      "아주 오래된 기억이 없는건… 너무 아쉬워요 ㅠㅠㅠ 좋은 플리 감사합니다\n",
      "좋다♡\n",
      "잘 듣고 갑니다 ㅎㅎ\n",
      "요즘 이 플리만 들어요ㅠㅠㅠㅠ넘 조음\n",
      "제가 딱 좋아하는 순서대로에요 어쩜 ㅠㅠ\n",
      "플리는 맘에 듭니닷!! 잘들을게요!!^^\n",
      "쪼끔 아쉬운게 '산책'이랑 '그건 아마 우리의 잘못은 아닐거야' 이게 없네요...ㅠ\n",
      "그래도 감사합니다~~~!!!(꾸벅!!)\n",
      "감사합니당!!\n",
      "넘조아여~ 마구 올려주세요ㅎ\n",
      "\n",
      "막내 마지막 부분 음원에서 들을 수 없는 목소리가 있는데 웃는듯 울먹이는\n",
      "어디서 들을 수 있나요?\n",
      "예림님 노래 찐사랑하는 1일인데요.  1년중 매장에서 예린님 노래만 들을정도로요\n",
      "근데  물고기-중간 탁탁치는 소리? 노무노무 거슬려요 ㅜㅜ 드럼도 아닌거같고... 그래도 감사하게 잘 듣고있어요^^\n",
      "끝남\n"
     ]
    }
   ],
   "source": [
    "last_page_height = driver.execute_script(\"return document.documentElement.scrollHeight\")\n",
    "while True:\n",
    "    driver.execute_script(\"window.scrollTo(0, document.documentElement.scrollHeight);\")\n",
    "    time.sleep(3)\n",
    "    new_page_height = driver.execute_script(\"return document.documentElement.scrollHeight\")\n",
    "\n",
    "    if new_page_height == last_page_height:\n",
    "        break\n",
    "    last_page_height = new_page_height\n",
    "\n",
    "# 파싱\n",
    "html = driver.page_source\n",
    "soup = BeautifulSoup(html, 'html.parser')\n",
    "\n",
    "comments = soup.find_all(\"ytd-comment-thread-renderer\", class_ = \"style-scope ytd-item-section-renderer\")\n",
    "print(len(comments))\n",
    "for comment in comments :\n",
    "\n",
    "    comment_text = comment.find(\"yt-formatted-string\", id=\"content-text\").text\n",
    "    \n",
    "    context_text.append(comment_text)\n",
    "    \n",
    "    print(comment_text)\n",
    "\n",
    "print(\"끝남\")\n",
    " \n",
    "\n"
   ]
  },
  {
   "cell_type": "code",
   "execution_count": 57,
   "id": "c2b4660d",
   "metadata": {},
   "outputs": [
    {
     "data": {
      "text/plain": [
       "'음색 진짜 넘 좋아ㅠㅠㅠㅠ'"
      ]
     },
     "execution_count": 57,
     "metadata": {},
     "output_type": "execute_result"
    }
   ],
   "source": [
    "context_text[2]"
   ]
  },
  {
   "cell_type": "code",
   "execution_count": 15,
   "id": "c8eaacfd",
   "metadata": {},
   "outputs": [
    {
     "ename": "NameError",
     "evalue": "name 'context_text' is not defined",
     "output_type": "error",
     "traceback": [
      "\u001b[0;31m---------------------------------------------------------------------------\u001b[0m",
      "\u001b[0;31mNameError\u001b[0m                                 Traceback (most recent call last)",
      "\u001b[0;32m/tmp/ipykernel_483168/129262419.py\u001b[0m in \u001b[0;36m<module>\u001b[0;34m\u001b[0m\n\u001b[0;32m----> 1\u001b[0;31m \u001b[0mlen\u001b[0m\u001b[0;34m(\u001b[0m\u001b[0mcontext_text\u001b[0m\u001b[0;34m)\u001b[0m\u001b[0;34m\u001b[0m\u001b[0;34m\u001b[0m\u001b[0m\n\u001b[0m",
      "\u001b[0;31mNameError\u001b[0m: name 'context_text' is not defined"
     ]
    }
   ],
   "source": [
    "len(context_text)"
   ]
  },
  {
   "cell_type": "code",
   "execution_count": 46,
   "id": "d4ad1060",
   "metadata": {},
   "outputs": [
    {
     "name": "stdout",
     "output_type": "stream",
     "text": [
      "[] \n",
      "\n"
     ]
    }
   ],
   "source": [
    "matching = [s for s in context_text if \"음악\" in s] \n",
    "print(matching , \"\\n\")"
   ]
  },
  {
   "cell_type": "code",
   "execution_count": 47,
   "id": "a7cd8cf3",
   "metadata": {},
   "outputs": [
    {
     "name": "stdout",
     "output_type": "stream",
     "text": [
      "[]\n"
     ]
    }
   ],
   "source": [
    "find_berry = '음악'\n",
    "berries = [i for i in range(len(context_text)) if find_berry in context_text[i]]\n",
    "print(berries)"
   ]
  },
  {
   "cell_type": "code",
   "execution_count": 130,
   "id": "582ed0d0",
   "metadata": {},
   "outputs": [
    {
     "name": "stdout",
     "output_type": "stream",
     "text": [
      "Collecting konlpy\n",
      "  Downloading konlpy-0.6.0-py2.py3-none-any.whl (19.4 MB)\n",
      "\u001b[2K     \u001b[90m━━━━━━━━━━━━━━━━━━━━━━━━━━━━━━━━━━━━━━━━\u001b[0m \u001b[32m19.4/19.4 MB\u001b[0m \u001b[31m10.6 MB/s\u001b[0m eta \u001b[36m0:00:00\u001b[0m00:01\u001b[0m00:01\u001b[0m\n",
      "\u001b[?25hRequirement already satisfied: numpy>=1.6 in /usr/lib/python3/dist-packages (from konlpy) (1.21.5)\n",
      "Requirement already satisfied: lxml>=4.1.0 in /usr/lib/python3/dist-packages (from konlpy) (4.8.0)\n",
      "Collecting JPype1>=0.7.0\n",
      "  Downloading JPype1-1.4.0-cp310-cp310-manylinux_2_12_x86_64.manylinux2010_x86_64.whl (465 kB)\n",
      "\u001b[2K     \u001b[90m━━━━━━━━━━━━━━━━━━━━━━━━━━━━━━━━━━━━━━\u001b[0m \u001b[32m465.1/465.1 KB\u001b[0m \u001b[31m11.5 MB/s\u001b[0m eta \u001b[36m0:00:00\u001b[0ma \u001b[36m0:00:01\u001b[0m\n",
      "\u001b[?25hInstalling collected packages: JPype1, konlpy\n",
      "Successfully installed JPype1-1.4.0 konlpy-0.6.0\n",
      "\u001b[33mWARNING: Running pip as the 'root' user can result in broken permissions and conflicting behaviour with the system package manager. It is recommended to use a virtual environment instead: https://pip.pypa.io/warnings/venv\u001b[0m\u001b[33m\n",
      "\u001b[0m"
     ]
    }
   ],
   "source": [
    "!pip install konlpy"
   ]
  },
  {
   "cell_type": "code",
   "execution_count": 8,
   "id": "e1d138ce",
   "metadata": {},
   "outputs": [],
   "source": [
    "from konlpy.tag import Okt"
   ]
  },
  {
   "cell_type": "code",
   "execution_count": 10,
   "id": "3861c19b",
   "metadata": {},
   "outputs": [
    {
     "name": "stdout",
     "output_type": "stream",
     "text": [
      "패키지 목록을 읽는 중입니다... 완료0%\n",
      "의존성 트리를 만드는 중입니다... 완료%\n",
      "상태 정보를 읽는 중입니다... 완료          \n",
      "The following additional packages will be installed:\n",
      "  ca-certificates-java default-jdk-headless default-jre default-jre-headless\n",
      "  fonts-dejavu-extra java-common libatk-wrapper-java libatk-wrapper-java-jni\n",
      "  libice-dev libpthread-stubs0-dev libsm-dev libx11-dev libxau-dev libxcb1-dev\n",
      "  libxdmcp-dev libxt-dev openjdk-11-jdk openjdk-11-jdk-headless openjdk-11-jre\n",
      "  openjdk-11-jre-headless x11proto-dev xorg-sgml-doctools xtrans-dev\n",
      "제안하는 패키지:\n",
      "  libice-doc libsm-doc libx11-doc libxcb-doc libxt-doc openjdk-11-demo\n",
      "  openjdk-11-source visualvm fonts-ipafont-gothic fonts-ipafont-mincho\n",
      "  fonts-wqy-microhei | fonts-wqy-zenhei\n",
      "다음 새 패키지를 설치할 것입니다:\n",
      "  ca-certificates-java default-jdk default-jdk-headless default-jre\n",
      "  default-jre-headless fonts-dejavu-extra java-common libatk-wrapper-java\n",
      "  libatk-wrapper-java-jni libice-dev libpthread-stubs0-dev libsm-dev\n",
      "  libx11-dev libxau-dev libxcb1-dev libxdmcp-dev libxt-dev openjdk-11-jdk\n",
      "  openjdk-11-jdk-headless openjdk-11-jre openjdk-11-jre-headless x11proto-dev\n",
      "  xorg-sgml-doctools xtrans-dev\n",
      "0개 업그레이드, 24개 새로 설치, 0개 제거 및 83개 업그레이드 안 함.\n",
      "261 M바이트 아카이브를 받아야 합니다.\n",
      "이 작업 후 412 M바이트의 디스크 공간을 더 사용하게 됩니다.\n",
      "받기:1 http://kr.archive.ubuntu.com/ubuntu jammy/main amd64 java-common all 0.72build2 [6,782 B]\n",
      "받기:2 http://kr.archive.ubuntu.com/ubuntu jammy-updates/main amd64 openjdk-11-jre-headless amd64 11.0.16+8-0ubuntu1~22.04 [41.5 MB]\n",
      "받기:3 http://kr.archive.ubuntu.com/ubuntu jammy/main amd64 default-jre-headless amd64 2:1.11-72build2 [3,042 B]33m\u001b[33m\u001b[33m\n",
      "받기:4 http://kr.archive.ubuntu.com/ubuntu jammy/main amd64 ca-certificates-java all 20190909 [12.1 kB]\n",
      "받기:5 http://kr.archive.ubuntu.com/ubuntu jammy-updates/main amd64 openjdk-11-jre amd64 11.0.16+8-0ubuntu1~22.04 [193 kB]\n",
      "받기:6 http://kr.archive.ubuntu.com/ubuntu jammy/main amd64 default-jre amd64 2:1.11-72build2 [896 B]\n",
      "받기:7 http://kr.archive.ubuntu.com/ubuntu jammy-updates/main amd64 openjdk-11-jdk-headless amd64 11.0.16+8-0ubuntu1~22.04 [214 MB]\n",
      "받기:8 http://kr.archive.ubuntu.com/ubuntu jammy/main amd64 default-jdk-headless amd64 2:1.11-72build2 [942 B]33m\u001b[33m\u001b[33m\u001b[33m\u001b[33m\u001b[33m\u001b[33m\u001b[33m\u001b[33m\u001b[33m\u001b[33m\u001b[33m\u001b[33m\u001b[33m\u001b[33m\u001b[33m\u001b[33m\u001b[33m\u001b[33m\u001b[33m\u001b[33m\u001b[33m\u001b[33m\u001b[33m\u001b[33m\u001b[33m\u001b[33m\u001b[33m\u001b[33m\u001b[33m\u001b[33m\u001b[33m\u001b[33m\u001b[33m\u001b[33m\u001b[33m\u001b[33m\u001b[33m\u001b[33m\u001b[33m\u001b[33m\u001b[33m\u001b[33m\u001b[33m\u001b[33m\n",
      "받기:9 http://kr.archive.ubuntu.com/ubuntu jammy-updates/main amd64 openjdk-11-jdk amd64 11.0.16+8-0ubuntu1~22.04 [1,561 kB]\n",
      "받기:10 http://kr.archive.ubuntu.com/ubuntu jammy/main amd64 default-jdk amd64 2:1.11-72build2 [908 B]\n",
      "받기:11 http://kr.archive.ubuntu.com/ubuntu jammy/main amd64 fonts-dejavu-extra all 2.37-2build1 [2,041 kB]\n",
      "받기:12 http://kr.archive.ubuntu.com/ubuntu jammy/main amd64 libatk-wrapper-java all 0.38.0-5build1 [53.1 kB]\n",
      "받기:13 http://kr.archive.ubuntu.com/ubuntu jammy/main amd64 libatk-wrapper-java-jni amd64 0.38.0-5build1 [49.0 kB]\n",
      "받기:14 http://kr.archive.ubuntu.com/ubuntu jammy/main amd64 xorg-sgml-doctools all 1:1.11-1.1 [10.9 kB]\n",
      "받기:15 http://kr.archive.ubuntu.com/ubuntu jammy/main amd64 x11proto-dev all 2021.5-1 [604 kB]\n",
      "받기:16 http://kr.archive.ubuntu.com/ubuntu jammy/main amd64 libice-dev amd64 2:1.0.10-1build2 [51.4 kB]\n",
      "받기:17 http://kr.archive.ubuntu.com/ubuntu jammy/main amd64 libpthread-stubs0-dev amd64 0.4-1build2 [5,516 B]\n",
      "받기:18 http://kr.archive.ubuntu.com/ubuntu jammy/main amd64 libsm-dev amd64 2:1.2.3-1build2 [18.1 kB]\n",
      "받기:19 http://kr.archive.ubuntu.com/ubuntu jammy/main amd64 libxau-dev amd64 1:1.0.9-1build5 [9,724 B]\n",
      "받기:20 http://kr.archive.ubuntu.com/ubuntu jammy/main amd64 libxdmcp-dev amd64 1:1.1.3-0ubuntu5 [26.5 kB]\n",
      "받기:21 http://kr.archive.ubuntu.com/ubuntu jammy/main amd64 xtrans-dev all 1.4.0-1 [68.9 kB]\n",
      "받기:22 http://kr.archive.ubuntu.com/ubuntu jammy/main amd64 libxcb1-dev amd64 1.14-3ubuntu3 [86.5 kB]\n",
      "받기:23 http://kr.archive.ubuntu.com/ubuntu jammy/main amd64 libx11-dev amd64 2:1.7.5-1 [744 kB]\n",
      "받기:24 http://kr.archive.ubuntu.com/ubuntu jammy/main amd64 libxt-dev amd64 1:1.2.1-1 [396 kB]\n",
      "내려받기 261 M바이트, 소요시간 33초 (7,890 k바이트/초)                                         0m\u001b[33m\n",
      "\n",
      "\u001b7\u001b[0;23r\u001b8\u001b[1ASelecting previously unselected package java-common.\n",
      "(데이터베이스 읽는중 ...현재 232792개의 파일과 디렉터리가 설치되어 있습니다.)\n",
      "Preparing to unpack .../00-java-common_0.72build2_all.deb ...\n",
      "\u001b7\u001b[24;0f\u001b[42m\u001b[30mProgress: [  0%]\u001b[49m\u001b[39m [..........................................................] \u001b8\u001b7\u001b[24;0f\u001b[42m\u001b[30mProgress: [  1%]\u001b[49m\u001b[39m [..........................................................] \u001b8Unpacking java-common (0.72build2) ...\n",
      "\u001b7\u001b[24;0f\u001b[42m\u001b[30mProgress: [  2%]\u001b[49m\u001b[39m [#.........................................................] \u001b8Selecting previously unselected package openjdk-11-jre-headless:amd64.\n",
      "Preparing to unpack .../01-openjdk-11-jre-headless_11.0.16+8-0ubuntu1~22.04_amd64.deb ...\n",
      "\u001b7\u001b[24;0f\u001b[42m\u001b[30mProgress: [  3%]\u001b[49m\u001b[39m [#.........................................................] \u001b8Unpacking openjdk-11-jre-headless:amd64 (11.0.16+8-0ubuntu1~22.04) ...\n",
      "\u001b7\u001b[24;0f\u001b[42m\u001b[30mProgress: [  4%]\u001b[49m\u001b[39m [##........................................................] \u001b8Selecting previously unselected package default-jre-headless.\n",
      "Preparing to unpack .../02-default-jre-headless_2%3a1.11-72build2_amd64.deb ...\n",
      "\u001b7\u001b[24;0f\u001b[42m\u001b[30mProgress: [  5%]\u001b[49m\u001b[39m [##........................................................] \u001b8Unpacking default-jre-headless (2:1.11-72build2) ...\n",
      "\u001b7\u001b[24;0f\u001b[42m\u001b[30mProgress: [  6%]\u001b[49m\u001b[39m [###.......................................................] \u001b8Selecting previously unselected package ca-certificates-java.\n",
      "Preparing to unpack .../03-ca-certificates-java_20190909_all.deb ...\n",
      "\u001b7\u001b[24;0f\u001b[42m\u001b[30mProgress: [  7%]\u001b[49m\u001b[39m [####......................................................] \u001b8Unpacking ca-certificates-java (20190909) ...\n",
      "\u001b7\u001b[24;0f\u001b[42m\u001b[30mProgress: [  8%]\u001b[49m\u001b[39m [####......................................................] \u001b8Selecting previously unselected package openjdk-11-jre:amd64.\n",
      "Preparing to unpack .../04-openjdk-11-jre_11.0.16+8-0ubuntu1~22.04_amd64.deb ...\n",
      "\u001b7\u001b[24;0f\u001b[42m\u001b[30mProgress: [  9%]\u001b[49m\u001b[39m [#####.....................................................] \u001b8Unpacking openjdk-11-jre:amd64 (11.0.16+8-0ubuntu1~22.04) ...\n",
      "\u001b7\u001b[24;0f\u001b[42m\u001b[30mProgress: [ 10%]\u001b[49m\u001b[39m [#####.....................................................] \u001b8Selecting previously unselected package default-jre.\n",
      "Preparing to unpack .../05-default-jre_2%3a1.11-72build2_amd64.deb ...\n",
      "\u001b7\u001b[24;0f\u001b[42m\u001b[30mProgress: [ 11%]\u001b[49m\u001b[39m [######....................................................] \u001b8Unpacking default-jre (2:1.11-72build2) ...\n",
      "\u001b7\u001b[24;0f\u001b[42m\u001b[30mProgress: [ 12%]\u001b[49m\u001b[39m [#######...................................................] \u001b8Selecting previously unselected package openjdk-11-jdk-headless:amd64.\n",
      "Preparing to unpack .../06-openjdk-11-jdk-headless_11.0.16+8-0ubuntu1~22.04_amd64.deb ...\n",
      "\u001b7\u001b[24;0f\u001b[42m\u001b[30mProgress: [ 13%]\u001b[49m\u001b[39m [#######...................................................] \u001b8Unpacking openjdk-11-jdk-headless:amd64 (11.0.16+8-0ubuntu1~22.04) ...\n",
      "\u001b7\u001b[24;0f\u001b[42m\u001b[30mProgress: [ 14%]\u001b[49m\u001b[39m [########..................................................] \u001b8Selecting previously unselected package default-jdk-headless.\n",
      "Preparing to unpack .../07-default-jdk-headless_2%3a1.11-72build2_amd64.deb ...\n",
      "\u001b7\u001b[24;0f\u001b[42m\u001b[30mProgress: [ 15%]\u001b[49m\u001b[39m [########..................................................] \u001b8Unpacking default-jdk-headless (2:1.11-72build2) ...\n",
      "\u001b7\u001b[24;0f\u001b[42m\u001b[30mProgress: [ 16%]\u001b[49m\u001b[39m [#########.................................................] \u001b8Selecting previously unselected package openjdk-11-jdk:amd64.\n",
      "Preparing to unpack .../08-openjdk-11-jdk_11.0.16+8-0ubuntu1~22.04_amd64.deb ...\n",
      "\u001b7\u001b[24;0f\u001b[42m\u001b[30mProgress: [ 18%]\u001b[49m\u001b[39m [##########................................................] \u001b8Unpacking openjdk-11-jdk:amd64 (11.0.16+8-0ubuntu1~22.04) ...\n",
      "\u001b7\u001b[24;0f\u001b[42m\u001b[30mProgress: [ 19%]\u001b[49m\u001b[39m [##########................................................] \u001b8Selecting previously unselected package default-jdk.\n",
      "Preparing to unpack .../09-default-jdk_2%3a1.11-72build2_amd64.deb ...\n",
      "\u001b7\u001b[24;0f\u001b[42m\u001b[30mProgress: [ 20%]\u001b[49m\u001b[39m [###########...............................................] \u001b8Unpacking default-jdk (2:1.11-72build2) ...\n",
      "\u001b7\u001b[24;0f\u001b[42m\u001b[30mProgress: [ 21%]\u001b[49m\u001b[39m [###########...............................................] \u001b8Selecting previously unselected package fonts-dejavu-extra.\n",
      "Preparing to unpack .../10-fonts-dejavu-extra_2.37-2build1_all.deb ...\n",
      "\u001b7\u001b[24;0f\u001b[42m\u001b[30mProgress: [ 22%]\u001b[49m\u001b[39m [############..............................................] \u001b8Unpacking fonts-dejavu-extra (2.37-2build1) ...\n"
     ]
    },
    {
     "name": "stdout",
     "output_type": "stream",
     "text": [
      "\u001b7\u001b[24;0f\u001b[42m\u001b[30mProgress: [ 23%]\u001b[49m\u001b[39m [#############.............................................] \u001b8Selecting previously unselected package libatk-wrapper-java.\n",
      "Preparing to unpack .../11-libatk-wrapper-java_0.38.0-5build1_all.deb ...\n",
      "\u001b7\u001b[24;0f\u001b[42m\u001b[30mProgress: [ 24%]\u001b[49m\u001b[39m [#############.............................................] \u001b8Unpacking libatk-wrapper-java (0.38.0-5build1) ...\n",
      "\u001b7\u001b[24;0f\u001b[42m\u001b[30mProgress: [ 25%]\u001b[49m\u001b[39m [##############............................................] \u001b8Selecting previously unselected package libatk-wrapper-java-jni:amd64.\n",
      "Preparing to unpack .../12-libatk-wrapper-java-jni_0.38.0-5build1_amd64.deb ...\n",
      "\u001b7\u001b[24;0f\u001b[42m\u001b[30mProgress: [ 26%]\u001b[49m\u001b[39m [##############............................................] \u001b8Unpacking libatk-wrapper-java-jni:amd64 (0.38.0-5build1) ...\n",
      "\u001b7\u001b[24;0f\u001b[42m\u001b[30mProgress: [ 27%]\u001b[49m\u001b[39m [###############...........................................] \u001b8Selecting previously unselected package xorg-sgml-doctools.\n",
      "Preparing to unpack .../13-xorg-sgml-doctools_1%3a1.11-1.1_all.deb ...\n",
      "\u001b7\u001b[24;0f\u001b[42m\u001b[30mProgress: [ 28%]\u001b[49m\u001b[39m [################..........................................] \u001b8Unpacking xorg-sgml-doctools (1:1.11-1.1) ...\n",
      "\u001b7\u001b[24;0f\u001b[42m\u001b[30mProgress: [ 29%]\u001b[49m\u001b[39m [################..........................................] \u001b8Selecting previously unselected package x11proto-dev.\n",
      "Preparing to unpack .../14-x11proto-dev_2021.5-1_all.deb ...\n",
      "\u001b7\u001b[24;0f\u001b[42m\u001b[30mProgress: [ 30%]\u001b[49m\u001b[39m [#################.........................................] \u001b8Unpacking x11proto-dev (2021.5-1) ...\n",
      "\u001b7\u001b[24;0f\u001b[42m\u001b[30mProgress: [ 31%]\u001b[49m\u001b[39m [#################.........................................] \u001b8Selecting previously unselected package libice-dev:amd64.\n",
      "Preparing to unpack .../15-libice-dev_2%3a1.0.10-1build2_amd64.deb ...\n",
      "\u001b7\u001b[24;0f\u001b[42m\u001b[30mProgress: [ 32%]\u001b[49m\u001b[39m [##################........................................] \u001b8Unpacking libice-dev:amd64 (2:1.0.10-1build2) ...\n",
      "\u001b7\u001b[24;0f\u001b[42m\u001b[30mProgress: [ 33%]\u001b[49m\u001b[39m [###################.......................................] \u001b8Selecting previously unselected package libpthread-stubs0-dev:amd64.\n",
      "Preparing to unpack .../16-libpthread-stubs0-dev_0.4-1build2_amd64.deb ...\n",
      "\u001b7\u001b[24;0f\u001b[42m\u001b[30mProgress: [ 34%]\u001b[49m\u001b[39m [###################.......................................] \u001b8Unpacking libpthread-stubs0-dev:amd64 (0.4-1build2) ...\n",
      "\u001b7\u001b[24;0f\u001b[42m\u001b[30mProgress: [ 35%]\u001b[49m\u001b[39m [####################......................................] \u001b8Selecting previously unselected package libsm-dev:amd64.\n",
      "Preparing to unpack .../17-libsm-dev_2%3a1.2.3-1build2_amd64.deb ...\n",
      "\u001b7\u001b[24;0f\u001b[42m\u001b[30mProgress: [ 36%]\u001b[49m\u001b[39m [####################......................................] \u001b8Unpacking libsm-dev:amd64 (2:1.2.3-1build2) ...\n",
      "\u001b7\u001b[24;0f\u001b[42m\u001b[30mProgress: [ 37%]\u001b[49m\u001b[39m [#####################.....................................] \u001b8Selecting previously unselected package libxau-dev:amd64.\n",
      "Preparing to unpack .../18-libxau-dev_1%3a1.0.9-1build5_amd64.deb ...\n",
      "\u001b7\u001b[24;0f\u001b[42m\u001b[30mProgress: [ 38%]\u001b[49m\u001b[39m [######################....................................] \u001b8Unpacking libxau-dev:amd64 (1:1.0.9-1build5) ...\n",
      "\u001b7\u001b[24;0f\u001b[42m\u001b[30mProgress: [ 39%]\u001b[49m\u001b[39m [######################....................................] \u001b8Selecting previously unselected package libxdmcp-dev:amd64.\n",
      "Preparing to unpack .../19-libxdmcp-dev_1%3a1.1.3-0ubuntu5_amd64.deb ...\n",
      "\u001b7\u001b[24;0f\u001b[42m\u001b[30mProgress: [ 40%]\u001b[49m\u001b[39m [#######################...................................] \u001b8Unpacking libxdmcp-dev:amd64 (1:1.1.3-0ubuntu5) ...\n",
      "\u001b7\u001b[24;0f\u001b[42m\u001b[30mProgress: [ 41%]\u001b[49m\u001b[39m [#######################...................................] \u001b8Selecting previously unselected package xtrans-dev.\n",
      "Preparing to unpack .../20-xtrans-dev_1.4.0-1_all.deb ...\n",
      "\u001b7\u001b[24;0f\u001b[42m\u001b[30mProgress: [ 42%]\u001b[49m\u001b[39m [########################..................................] \u001b8Unpacking xtrans-dev (1.4.0-1) ...\n",
      "\u001b7\u001b[24;0f\u001b[42m\u001b[30mProgress: [ 43%]\u001b[49m\u001b[39m [#########################.................................] \u001b8Selecting previously unselected package libxcb1-dev:amd64.\n",
      "Preparing to unpack .../21-libxcb1-dev_1.14-3ubuntu3_amd64.deb ...\n",
      "\u001b7\u001b[24;0f\u001b[42m\u001b[30mProgress: [ 44%]\u001b[49m\u001b[39m [#########################.................................] \u001b8Unpacking libxcb1-dev:amd64 (1.14-3ubuntu3) ...\n",
      "\u001b7\u001b[24;0f\u001b[42m\u001b[30mProgress: [ 45%]\u001b[49m\u001b[39m [##########################................................] \u001b8Selecting previously unselected package libx11-dev:amd64.\n",
      "Preparing to unpack .../22-libx11-dev_2%3a1.7.5-1_amd64.deb ...\n",
      "\u001b7\u001b[24;0f\u001b[42m\u001b[30mProgress: [ 46%]\u001b[49m\u001b[39m [##########################................................] \u001b8Unpacking libx11-dev:amd64 (2:1.7.5-1) ...\n",
      "\u001b7\u001b[24;0f\u001b[42m\u001b[30mProgress: [ 47%]\u001b[49m\u001b[39m [###########################...............................] \u001b8Selecting previously unselected package libxt-dev:amd64.\n",
      "Preparing to unpack .../23-libxt-dev_1%3a1.2.1-1_amd64.deb ...\n",
      "\u001b7\u001b[24;0f\u001b[42m\u001b[30mProgress: [ 48%]\u001b[49m\u001b[39m [############################..............................] \u001b8Unpacking libxt-dev:amd64 (1:1.2.1-1) ...\n",
      "\u001b7\u001b[24;0f\u001b[42m\u001b[30mProgress: [ 49%]\u001b[49m\u001b[39m [############################..............................] \u001b8java-common (0.72build2) 설정하는 중입니다 ...\n",
      "\u001b7\u001b[24;0f\u001b[42m\u001b[30mProgress: [ 51%]\u001b[49m\u001b[39m [#############################.............................] \u001b8\u001b7\u001b[24;0f\u001b[42m\u001b[30mProgress: [ 52%]\u001b[49m\u001b[39m [#############################.............................] \u001b8libpthread-stubs0-dev:amd64 (0.4-1build2) 설정하는 중입니다 ...\n",
      "\u001b7\u001b[24;0f\u001b[42m\u001b[30mProgress: [ 53%]\u001b[49m\u001b[39m [##############################............................] \u001b8\u001b7\u001b[24;0f\u001b[42m\u001b[30mProgress: [ 54%]\u001b[49m\u001b[39m [###############################...........................] \u001b8xtrans-dev (1.4.0-1) 설정하는 중입니다 ...\n",
      "\u001b7\u001b[24;0f\u001b[42m\u001b[30mProgress: [ 55%]\u001b[49m\u001b[39m [###############################...........................] \u001b8\u001b7\u001b[24;0f\u001b[42m\u001b[30mProgress: [ 56%]\u001b[49m\u001b[39m [################################..........................] \u001b8fonts-dejavu-extra (2.37-2build1) 설정하는 중입니다 ...\n",
      "\u001b7\u001b[24;0f\u001b[42m\u001b[30mProgress: [ 57%]\u001b[49m\u001b[39m [################################..........................] \u001b8\u001b7\u001b[24;0f\u001b[42m\u001b[30mProgress: [ 58%]\u001b[49m\u001b[39m [#################################.........................] \u001b8xorg-sgml-doctools (1:1.11-1.1) 설정하는 중입니다 ...\n",
      "\u001b7\u001b[24;0f\u001b[42m\u001b[30mProgress: [ 59%]\u001b[49m\u001b[39m [##################################........................] \u001b8libatk-wrapper-java (0.38.0-5build1) 설정하는 중입니다 ...\n",
      "\u001b7\u001b[24;0f\u001b[42m\u001b[30mProgress: [ 60%]\u001b[49m\u001b[39m [##################################........................] \u001b8\u001b7\u001b[24;0f\u001b[42m\u001b[30mProgress: [ 61%]\u001b[49m\u001b[39m [###################################.......................] \u001b8libatk-wrapper-java-jni:amd64 (0.38.0-5build1) 설정하는 중입니다 ...\n",
      "\u001b7\u001b[24;0f\u001b[42m\u001b[30mProgress: [ 62%]\u001b[49m\u001b[39m [###################################.......................] \u001b8\u001b7\u001b[24;0f\u001b[42m\u001b[30mProgress: [ 63%]\u001b[49m\u001b[39m [####################################......................] \u001b8ca-certificates-java (20190909) 설정하는 중입니다 ...\n",
      "\u001b7\u001b[24;0f\u001b[42m\u001b[30mProgress: [ 64%]\u001b[49m\u001b[39m [#####################################.....................] \u001b8head: cannot open '/etc/ssl/certs/java/cacerts' for reading: No such file or directory\n",
      "Adding debian:Certum_Trusted_Network_CA_2.pem\n",
      "Adding debian:UCA_Global_G2_Root.pem\n",
      "Adding debian:USERTrust_RSA_Certification_Authority.pem\n",
      "Adding debian:DigiCert_Global_Root_G3.pem\n",
      "Adding debian:SZAFIR_ROOT_CA2.pem\n",
      "Adding debian:SSL.com_Root_Certification_Authority_RSA.pem\n",
      "Adding debian:COMODO_Certification_Authority.pem\n",
      "Adding debian:Trustwave_Global_ECC_P256_Certification_Authority.pem\n",
      "Adding debian:Amazon_Root_CA_4.pem\n",
      "Adding debian:DigiCert_Trusted_Root_G4.pem\n",
      "Adding debian:XRamp_Global_CA_Root.pem\n",
      "Adding debian:NetLock_Arany_=Class_Gold=_Főtanúsítvány.pem\n",
      "Adding debian:GlobalSign_Root_E46.pem\n",
      "Adding debian:Entrust_Root_Certification_Authority.pem\n",
      "Adding debian:DigiCert_Global_Root_G2.pem\n",
      "Adding debian:DigiCert_High_Assurance_EV_Root_CA.pem\n",
      "Adding debian:Amazon_Root_CA_1.pem\n",
      "Adding debian:OISTE_WISeKey_Global_Root_GC_CA.pem\n",
      "Adding debian:Microsoft_RSA_Root_Certificate_Authority_2017.pem\n",
      "Adding debian:CFCA_EV_ROOT.pem\n",
      "Adding debian:Security_Communication_Root_CA.pem\n",
      "Adding debian:TrustCor_RootCert_CA-2.pem\n",
      "Adding debian:Actalis_Authentication_Root_CA.pem\n",
      "Adding debian:Staat_der_Nederlanden_EV_Root_CA.pem\n",
      "Adding debian:AC_RAIZ_FNMT-RCM.pem\n",
      "Adding debian:ISRG_Root_X1.pem\n",
      "Adding debian:emSign_Root_CA_-_C1.pem\n",
      "Adding debian:ssl-cert-snakeoil.pem\n",
      "Adding debian:Go_Daddy_Root_Certificate_Authority_-_G2.pem\n",
      "Adding debian:GlobalSign_Root_R46.pem\n",
      "Adding debian:Secure_Global_CA.pem\n",
      "Adding debian:Entrust_Root_Certification_Authority_-_G2.pem\n",
      "Adding debian:ACCVRAIZ1.pem\n",
      "Adding debian:GlobalSign_ECC_Root_CA_-_R5.pem\n",
      "Adding debian:Izenpe.com.pem\n",
      "Adding debian:SecureSign_RootCA11.pem\n",
      "Adding debian:QuoVadis_Root_CA_3_G3.pem\n",
      "Adding debian:GlobalSign_ECC_Root_CA_-_R4.pem\n",
      "Adding debian:emSign_ECC_Root_CA_-_G3.pem\n",
      "Adding debian:Comodo_AAA_Services_root.pem\n",
      "Adding debian:SwissSign_Silver_CA_-_G2.pem\n",
      "Adding debian:T-TeleSec_GlobalRoot_Class_2.pem\n",
      "Adding debian:Entrust_Root_Certification_Authority_-_G4.pem\n",
      "Adding debian:QuoVadis_Root_CA_2.pem\n",
      "Adding debian:IdenTrust_Public_Sector_Root_CA_1.pem\n",
      "Adding debian:TWCA_Global_Root_CA.pem\n",
      "Adding debian:Baltimore_CyberTrust_Root.pem\n",
      "Adding debian:NAVER_Global_Root_Certification_Authority.pem\n",
      "Adding debian:TeliaSonera_Root_CA_v1.pem\n",
      "Adding debian:certSIGN_Root_CA_G2.pem\n",
      "Adding debian:OISTE_WISeKey_Global_Root_GB_CA.pem\n",
      "Adding debian:Buypass_Class_2_Root_CA.pem\n",
      "Adding debian:Certum_Trusted_Network_CA.pem\n",
      "Adding debian:GDCA_TrustAUTH_R5_ROOT.pem\n",
      "Adding debian:QuoVadis_Root_CA_1_G3.pem\n",
      "Adding debian:Network_Solutions_Certificate_Authority.pem\n",
      "Adding debian:Autoridad_de_Certificacion_Firmaprofesional_CIF_A62634068.pem\n",
      "Adding debian:DigiCert_Assured_ID_Root_G3.pem\n",
      "Adding debian:Certigna_Root_CA.pem\n",
      "Adding debian:GTS_Root_R1.pem\n",
      "Adding debian:Certum_EC-384_CA.pem\n",
      "Adding debian:SSL.com_EV_Root_Certification_Authority_RSA_R2.pem\n",
      "Adding debian:Trustwave_Global_Certification_Authority.pem\n",
      "Adding debian:Go_Daddy_Class_2_CA.pem\n",
      "Adding debian:DigiCert_Assured_ID_Root_CA.pem\n",
      "Adding debian:GlobalSign_Root_CA.pem\n",
      "Adding debian:COMODO_RSA_Certification_Authority.pem\n",
      "Adding debian:Microsec_e-Szigno_Root_CA_2009.pem\n",
      "Adding debian:D-TRUST_Root_Class_3_CA_2_2009.pem\n",
      "Adding debian:Starfield_Services_Root_Certificate_Authority_-_G2.pem\n"
     ]
    },
    {
     "name": "stdout",
     "output_type": "stream",
     "text": [
      "Adding debian:Hongkong_Post_Root_CA_3.pem\n",
      "Adding debian:ANF_Secure_Server_Root_CA.pem\n",
      "Adding debian:CA_Disig_Root_R2.pem\n",
      "Adding debian:EC-ACC.pem\n",
      "Adding debian:TUBITAK_Kamu_SM_SSL_Kok_Sertifikasi_-_Surum_1.pem\n",
      "Adding debian:GTS_Root_R2.pem\n",
      "Adding debian:Microsoft_ECC_Root_Certificate_Authority_2017.pem\n",
      "Adding debian:Entrust_Root_Certification_Authority_-_EC1.pem\n",
      "Adding debian:AffirmTrust_Networking.pem\n",
      "Adding debian:AffirmTrust_Premium_ECC.pem\n",
      "Adding debian:Hellenic_Academic_and_Research_Institutions_RootCA_2011.pem\n",
      "Adding debian:GTS_Root_R4.pem\n",
      "Adding debian:Amazon_Root_CA_2.pem\n",
      "Adding debian:Hellenic_Academic_and_Research_Institutions_ECC_RootCA_2015.pem\n",
      "Adding debian:Security_Communication_RootCA2.pem\n",
      "Adding debian:Trustwave_Global_ECC_P384_Certification_Authority.pem\n",
      "Adding debian:QuoVadis_Root_CA_3.pem\n",
      "Adding debian:UCA_Extended_Validation_Root.pem\n",
      "Adding debian:ePKI_Root_Certification_Authority.pem\n",
      "Adding debian:DigiCert_Assured_ID_Root_G2.pem\n",
      "Adding debian:Hongkong_Post_Root_CA_1.pem\n",
      "Adding debian:Certigna.pem\n",
      "Adding debian:TrustCor_ECA-1.pem\n",
      "Adding debian:certSIGN_ROOT_CA.pem\n",
      "Adding debian:Certum_Trusted_Root_CA.pem\n",
      "Adding debian:SSL.com_EV_Root_Certification_Authority_ECC.pem\n",
      "Adding debian:GlobalSign_Root_CA_-_R2.pem\n",
      "Adding debian:DigiCert_Global_Root_CA.pem\n",
      "Adding debian:USERTrust_ECC_Certification_Authority.pem\n",
      "Adding debian:E-Tugra_Certification_Authority.pem\n",
      "Adding debian:Starfield_Root_Certificate_Authority_-_G2.pem\n",
      "Adding debian:Starfield_Class_2_CA.pem\n",
      "Adding debian:SecureTrust_CA.pem\n",
      "Adding debian:SSL.com_Root_Certification_Authority_ECC.pem\n",
      "Adding debian:GLOBALTRUST_2020.pem\n",
      "Adding debian:GlobalSign_Root_CA_-_R6.pem\n",
      "Adding debian:IdenTrust_Commercial_Root_CA_1.pem\n",
      "Adding debian:GlobalSign_Root_CA_-_R3.pem\n",
      "Adding debian:Buypass_Class_3_Root_CA.pem\n",
      "Adding debian:Entrust.net_Premium_2048_Secure_Server_CA.pem\n",
      "Adding debian:COMODO_ECC_Certification_Authority.pem\n",
      "Adding debian:AffirmTrust_Premium.pem\n",
      "Adding debian:e-Szigno_Root_CA_2017.pem\n",
      "Adding debian:T-TeleSec_GlobalRoot_Class_3.pem\n",
      "Adding debian:emSign_Root_CA_-_G1.pem\n",
      "Adding debian:Cybertrust_Global_Root.pem\n",
      "Adding debian:emSign_ECC_Root_CA_-_C3.pem\n",
      "Adding debian:GTS_Root_R3.pem\n",
      "Adding debian:D-TRUST_Root_Class_3_CA_2_EV_2009.pem\n",
      "Adding debian:Hellenic_Academic_and_Research_Institutions_RootCA_2015.pem\n",
      "Adding debian:AC_RAIZ_FNMT-RCM_SERVIDORES_SEGUROS.pem\n",
      "Adding debian:AffirmTrust_Commercial.pem\n",
      "Adding debian:QuoVadis_Root_CA_2_G3.pem\n",
      "Adding debian:Atos_TrustedRoot_2011.pem\n",
      "Adding debian:Amazon_Root_CA_3.pem\n",
      "Adding debian:SwissSign_Gold_CA_-_G2.pem\n",
      "Adding debian:TWCA_Root_Certification_Authority.pem\n",
      "Adding debian:TrustCor_RootCert_CA-1.pem\n",
      "done.\n",
      "default-jre-headless (2:1.11-72build2) 설정하는 중입니다 ...\n",
      "\u001b7\u001b[24;0f\u001b[42m\u001b[30mProgress: [ 65%]\u001b[49m\u001b[39m [#####################################.....................] \u001b8\u001b7\u001b[24;0f\u001b[42m\u001b[30mProgress: [ 66%]\u001b[49m\u001b[39m [######################################....................] \u001b8Processing triggers for hicolor-icon-theme (0.17-2) ...\n",
      "Processing triggers for gnome-menus (3.36.0-1ubuntu3) ...\n",
      "Processing triggers for man-db (2.10.2-1) ...\n",
      "Processing triggers for ca-certificates (20211016) ...\n",
      "\u001b7\u001b[24;0f\u001b[42m\u001b[30mProgress: [ 67%]\u001b[49m\u001b[39m [######################################....................] \u001b8Updating certificates in /etc/ssl/certs...\n",
      "0 added, 0 removed; done.\n",
      "Running hooks in /etc/ca-certificates/update.d...\n",
      "\n",
      "done.\n",
      "done.\n",
      "Processing triggers for sgml-base (1.30) ...\n",
      "\u001b7\u001b[24;0f\u001b[42m\u001b[30mProgress: [ 68%]\u001b[49m\u001b[39m [#######################################...................] \u001b8Processing triggers for mailcap (3.70+nmu1ubuntu1) ...\n",
      "x11proto-dev (2021.5-1) 설정하는 중입니다 ...\n",
      "\u001b7\u001b[24;0f\u001b[42m\u001b[30mProgress: [ 69%]\u001b[49m\u001b[39m [########################################..................] \u001b8\u001b7\u001b[24;0f\u001b[42m\u001b[30mProgress: [ 70%]\u001b[49m\u001b[39m [########################################..................] \u001b8Processing triggers for fontconfig (2.13.1-4.2ubuntu5) ...\n",
      "Processing triggers for desktop-file-utils (0.26-1ubuntu3) ...\n",
      "libxau-dev:amd64 (1:1.0.9-1build5) 설정하는 중입니다 ...\n",
      "\u001b7\u001b[24;0f\u001b[42m\u001b[30mProgress: [ 71%]\u001b[49m\u001b[39m [#########################################.................] \u001b8\u001b7\u001b[24;0f\u001b[42m\u001b[30mProgress: [ 72%]\u001b[49m\u001b[39m [#########################################.................] \u001b8libice-dev:amd64 (2:1.0.10-1build2) 설정하는 중입니다 ...\n",
      "\u001b7\u001b[24;0f\u001b[42m\u001b[30mProgress: [ 73%]\u001b[49m\u001b[39m [##########################################................] \u001b8\u001b7\u001b[24;0f\u001b[42m\u001b[30mProgress: [ 74%]\u001b[49m\u001b[39m [###########################################...............] \u001b8libsm-dev:amd64 (2:1.2.3-1build2) 설정하는 중입니다 ...\n",
      "\u001b7\u001b[24;0f\u001b[42m\u001b[30mProgress: [ 75%]\u001b[49m\u001b[39m [###########################################...............] \u001b8\u001b7\u001b[24;0f\u001b[42m\u001b[30mProgress: [ 76%]\u001b[49m\u001b[39m [############################################..............] \u001b8openjdk-11-jre-headless:amd64 (11.0.16+8-0ubuntu1~22.04) 설정하는 중입니다 ...\n",
      "\u001b7\u001b[24;0f\u001b[42m\u001b[30mProgress: [ 77%]\u001b[49m\u001b[39m [############################################..............] \u001b8update-alternatives: using /usr/lib/jvm/java-11-openjdk-amd64/bin/java to provide /usr/bin/java (java) in auto mode\n",
      "update-alternatives: using /usr/lib/jvm/java-11-openjdk-amd64/bin/jjs to provide /usr/bin/jjs (jjs) in auto mode\n",
      "update-alternatives: using /usr/lib/jvm/java-11-openjdk-amd64/bin/keytool to provide /usr/bin/keytool (keytool) in auto mode\n",
      "update-alternatives: using /usr/lib/jvm/java-11-openjdk-amd64/bin/rmid to provide /usr/bin/rmid (rmid) in auto mode\n",
      "update-alternatives: using /usr/lib/jvm/java-11-openjdk-amd64/bin/rmiregistry to provide /usr/bin/rmiregistry (rmiregistry) in auto mode\n",
      "update-alternatives: using /usr/lib/jvm/java-11-openjdk-amd64/bin/pack200 to provide /usr/bin/pack200 (pack200) in auto mode\n",
      "update-alternatives: using /usr/lib/jvm/java-11-openjdk-amd64/bin/unpack200 to provide /usr/bin/unpack200 (unpack200) in auto mode\n",
      "update-alternatives: using /usr/lib/jvm/java-11-openjdk-amd64/lib/jexec to provide /usr/bin/jexec (jexec) in auto mode\n",
      "\u001b7\u001b[24;0f\u001b[42m\u001b[30mProgress: [ 78%]\u001b[49m\u001b[39m [#############################################.............] \u001b8openjdk-11-jre:amd64 (11.0.16+8-0ubuntu1~22.04) 설정하는 중입니다 ...\n",
      "\u001b7\u001b[24;0f\u001b[42m\u001b[30mProgress: [ 79%]\u001b[49m\u001b[39m [##############################################............] \u001b8\u001b7\u001b[24;0f\u001b[42m\u001b[30mProgress: [ 80%]\u001b[49m\u001b[39m [##############################################............] \u001b8openjdk-11-jdk-headless:amd64 (11.0.16+8-0ubuntu1~22.04) 설정하는 중입니다 ...\n",
      "\u001b7\u001b[24;0f\u001b[42m\u001b[30mProgress: [ 81%]\u001b[49m\u001b[39m [###############################################...........] \u001b8update-alternatives: using /usr/lib/jvm/java-11-openjdk-amd64/bin/jar to provide /usr/bin/jar (jar) in auto mode\n",
      "update-alternatives: using /usr/lib/jvm/java-11-openjdk-amd64/bin/jarsigner to provide /usr/bin/jarsigner (jarsigner) in auto mode\n",
      "update-alternatives: using /usr/lib/jvm/java-11-openjdk-amd64/bin/javac to provide /usr/bin/javac (javac) in auto mode\n",
      "update-alternatives: using /usr/lib/jvm/java-11-openjdk-amd64/bin/javadoc to provide /usr/bin/javadoc (javadoc) in auto mode\n",
      "update-alternatives: using /usr/lib/jvm/java-11-openjdk-amd64/bin/javap to provide /usr/bin/javap (javap) in auto mode\n",
      "update-alternatives: using /usr/lib/jvm/java-11-openjdk-amd64/bin/jcmd to provide /usr/bin/jcmd (jcmd) in auto mode\n",
      "update-alternatives: using /usr/lib/jvm/java-11-openjdk-amd64/bin/jdb to provide /usr/bin/jdb (jdb) in auto mode\n",
      "update-alternatives: using /usr/lib/jvm/java-11-openjdk-amd64/bin/jdeprscan to provide /usr/bin/jdeprscan (jdeprscan) in auto mode\n",
      "update-alternatives: using /usr/lib/jvm/java-11-openjdk-amd64/bin/jdeps to provide /usr/bin/jdeps (jdeps) in auto mode\n",
      "update-alternatives: using /usr/lib/jvm/java-11-openjdk-amd64/bin/jfr to provide /usr/bin/jfr (jfr) in auto mode\n",
      "update-alternatives: using /usr/lib/jvm/java-11-openjdk-amd64/bin/jimage to provide /usr/bin/jimage (jimage) in auto mode\n",
      "update-alternatives: using /usr/lib/jvm/java-11-openjdk-amd64/bin/jinfo to provide /usr/bin/jinfo (jinfo) in auto mode\n",
      "update-alternatives: using /usr/lib/jvm/java-11-openjdk-amd64/bin/jlink to provide /usr/bin/jlink (jlink) in auto mode\n",
      "update-alternatives: using /usr/lib/jvm/java-11-openjdk-amd64/bin/jmap to provide /usr/bin/jmap (jmap) in auto mode\n",
      "update-alternatives: using /usr/lib/jvm/java-11-openjdk-amd64/bin/jmod to provide /usr/bin/jmod (jmod) in auto mode\n",
      "update-alternatives: using /usr/lib/jvm/java-11-openjdk-amd64/bin/jps to provide /usr/bin/jps (jps) in auto mode\n"
     ]
    },
    {
     "name": "stdout",
     "output_type": "stream",
     "text": [
      "update-alternatives: using /usr/lib/jvm/java-11-openjdk-amd64/bin/jrunscript to provide /usr/bin/jrunscript (jrunscript) in auto mode\n",
      "update-alternatives: using /usr/lib/jvm/java-11-openjdk-amd64/bin/jshell to provide /usr/bin/jshell (jshell) in auto mode\n",
      "update-alternatives: using /usr/lib/jvm/java-11-openjdk-amd64/bin/jstack to provide /usr/bin/jstack (jstack) in auto mode\n",
      "update-alternatives: using /usr/lib/jvm/java-11-openjdk-amd64/bin/jstat to provide /usr/bin/jstat (jstat) in auto mode\n",
      "update-alternatives: using /usr/lib/jvm/java-11-openjdk-amd64/bin/jstatd to provide /usr/bin/jstatd (jstatd) in auto mode\n",
      "update-alternatives: using /usr/lib/jvm/java-11-openjdk-amd64/bin/rmic to provide /usr/bin/rmic (rmic) in auto mode\n",
      "update-alternatives: using /usr/lib/jvm/java-11-openjdk-amd64/bin/serialver to provide /usr/bin/serialver (serialver) in auto mode\n",
      "update-alternatives: using /usr/lib/jvm/java-11-openjdk-amd64/bin/jaotc to provide /usr/bin/jaotc (jaotc) in auto mode\n",
      "update-alternatives: using /usr/lib/jvm/java-11-openjdk-amd64/bin/jhsdb to provide /usr/bin/jhsdb (jhsdb) in auto mode\n",
      "\u001b7\u001b[24;0f\u001b[42m\u001b[30mProgress: [ 82%]\u001b[49m\u001b[39m [###############################################...........] \u001b8default-jre (2:1.11-72build2) 설정하는 중입니다 ...\n",
      "\u001b7\u001b[24;0f\u001b[42m\u001b[30mProgress: [ 84%]\u001b[49m\u001b[39m [################################################..........] \u001b8\u001b7\u001b[24;0f\u001b[42m\u001b[30mProgress: [ 85%]\u001b[49m\u001b[39m [#################################################.........] \u001b8libxdmcp-dev:amd64 (1:1.1.3-0ubuntu5) 설정하는 중입니다 ...\n",
      "\u001b7\u001b[24;0f\u001b[42m\u001b[30mProgress: [ 86%]\u001b[49m\u001b[39m [#################################################.........] \u001b8\u001b7\u001b[24;0f\u001b[42m\u001b[30mProgress: [ 87%]\u001b[49m\u001b[39m [##################################################........] \u001b8default-jdk-headless (2:1.11-72build2) 설정하는 중입니다 ...\n",
      "\u001b7\u001b[24;0f\u001b[42m\u001b[30mProgress: [ 88%]\u001b[49m\u001b[39m [##################################################........] \u001b8\u001b7\u001b[24;0f\u001b[42m\u001b[30mProgress: [ 89%]\u001b[49m\u001b[39m [###################################################.......] \u001b8openjdk-11-jdk:amd64 (11.0.16+8-0ubuntu1~22.04) 설정하는 중입니다 ...\n",
      "\u001b7\u001b[24;0f\u001b[42m\u001b[30mProgress: [ 90%]\u001b[49m\u001b[39m [####################################################......] \u001b8update-alternatives: using /usr/lib/jvm/java-11-openjdk-amd64/bin/jconsole to provide /usr/bin/jconsole (jconsole) in auto mode\n",
      "\u001b7\u001b[24;0f\u001b[42m\u001b[30mProgress: [ 91%]\u001b[49m\u001b[39m [####################################################......] \u001b8libxcb1-dev:amd64 (1.14-3ubuntu3) 설정하는 중입니다 ...\n",
      "\u001b7\u001b[24;0f\u001b[42m\u001b[30mProgress: [ 92%]\u001b[49m\u001b[39m [#####################################################.....] \u001b8\u001b7\u001b[24;0f\u001b[42m\u001b[30mProgress: [ 93%]\u001b[49m\u001b[39m [#####################################################.....] \u001b8libx11-dev:amd64 (2:1.7.5-1) 설정하는 중입니다 ...\n",
      "\u001b7\u001b[24;0f\u001b[42m\u001b[30mProgress: [ 94%]\u001b[49m\u001b[39m [######################################################....] \u001b8\u001b7\u001b[24;0f\u001b[42m\u001b[30mProgress: [ 95%]\u001b[49m\u001b[39m [#######################################################...] \u001b8default-jdk (2:1.11-72build2) 설정하는 중입니다 ...\n",
      "\u001b7\u001b[24;0f\u001b[42m\u001b[30mProgress: [ 96%]\u001b[49m\u001b[39m [#######################################################...] \u001b8\u001b7\u001b[24;0f\u001b[42m\u001b[30mProgress: [ 97%]\u001b[49m\u001b[39m [########################################################..] \u001b8libxt-dev:amd64 (1:1.2.1-1) 설정하는 중입니다 ...\n",
      "\u001b7\u001b[24;0f\u001b[42m\u001b[30mProgress: [ 98%]\u001b[49m\u001b[39m [########################################################..] \u001b8\u001b7\u001b[24;0f\u001b[42m\u001b[30mProgress: [ 99%]\u001b[49m\u001b[39m [#########################################################.] \u001b8\n",
      "\u001b7\u001b[0;24r\u001b8\u001b[1A\u001b[J"
     ]
    }
   ],
   "source": [
    "!apt install default-jdk -y"
   ]
  },
  {
   "cell_type": "code",
   "execution_count": 49,
   "id": "73c496f6",
   "metadata": {},
   "outputs": [],
   "source": [
    "nlpy = Okt()"
   ]
  },
  {
   "cell_type": "code",
   "execution_count": 74,
   "id": "8c236e4f",
   "metadata": {},
   "outputs": [
    {
     "name": "stdout",
     "output_type": "stream",
     "text": [
      "𝒕𝒊𝒎𝒆𝒍𝒊𝒏𝒆\n",
      "\n",
      "00:00 막내\n",
      "03:53 Bunny\n",
      "07:50 Popo (How deep is our love?)\n",
      "12:19 Datoom\n",
      "16:10 Lovegame\n",
      "19:42 그게 나였네\n",
      "23:02 “HOMESWEETHOME”(윤석철 Remix)\n",
      "27:00 한계\n",
      "30:49 어느 새\n",
      "35:00 We are all Muse\n",
      "39:25 물고기 \n",
      "43:11 왜?날\n",
      "47:15 0310\n",
      "51:12 Not a girl\n",
      "55:00 Hate you \n",
      "58:33 I am not your ocean anymore\n",
      "1:01:52  I’ll Be Your Family!\n",
      "1:05:41 돌아가자\n",
      "1:09:43 Antifreeze\n",
      "1:13:48 Square(2017)\n",
      "\n",
      " 광고는 자동으로 삽입됩니다.\n",
      " 영상으로 인한 광고 수익은 음원 저작권자에게 모두 돌아갑니다.\n",
      "\n",
      "\n",
      "#playlist #플레이리스트#백예린노래모음 such a chill blissful music for all those blue afternoons to make you feel everything you are feeling, absolutly lovely 음색 진짜 넘 좋아ㅠㅠㅠㅠ 노래 너무 잘 듣고 있어요  플레이리스트 처음부터 끝까지 완벽합니당 ,,, 노래 너무 좋아요 백예린 화이팅!! 헤헤 너어어어무 좋아용 역시....🫶예린백 좋은 플리 감사합니다️️ 개인적으로 예린퀸은 가사가 영어랑 더잘어울리는거같아요.. 물론 한글가사도 좋아요 헉 “HOMESWEETHOME”(윤석철 Remix) 곡 사랑하시는 구나.. 저도요 리믹스 너무 사랑해요ㅠ 아주 오래된 기억이 없는건… 너무 아쉬워요 ㅠㅠㅠ 좋은 플리 감사합니다 좋다♡ 잘 듣고 갑니다 ㅎㅎ 요즘 이 플리만 들어요ㅠㅠㅠㅠ넘 조음 제가 딱 좋아하는 순서대로에요 어쩜 ㅠㅠ 플리는 맘에 듭니닷!! 잘들을게요!!^^\n",
      "쪼끔 아쉬운게 '산책'이랑 '그건 아마 우리의 잘못은 아닐거야' 이게 없네요...ㅠ\n",
      "그래도 감사합니다~~~!!!(꾸벅!!) 감사합니당!! 넘조아여~ 마구 올려주세요ㅎ  막내 마지막 부분 음원에서 들을 수 없는 목소리가 있는데 웃는듯 울먹이는\n",
      "어디서 들을 수 있나요? 예림님 노래 찐사랑하는 1일인데요.  1년중 매장에서 예린님 노래만 들을정도로요\n",
      "근데  물고기-중간 탁탁치는 소리? 노무노무 거슬려요 ㅜㅜ 드럼도 아닌거같고... 그래도 감사하게 잘 듣고있어요^^\n"
     ]
    }
   ],
   "source": [
    "str_list = \" \".join(context_text)\n",
    "print(str_list)"
   ]
  },
  {
   "cell_type": "code",
   "execution_count": 75,
   "id": "14cb5e5c",
   "metadata": {},
   "outputs": [
    {
     "name": "stdout",
     "output_type": "stream",
     "text": [
      "['막내', '그게', '윤석', '철', '한계', '새', '물고기', '왜', '날', '광고', '자동', '삽입', '영상', '광고', '수익', '음원', '저작권', '모두', '백예린', '노래', '모음', '음색', '진짜', '노래', '플레이', '리스트', '처음', '끝', '노래', '백예린', '화이팅', '헤헤', '어어', '무', '역시', '린', '플리', '개인', '린퀸', '가사', '영어', '한글', '가사도', '윤석', '철', '곡', '사랑', '구나', '도', '리믹스', '사랑', '아주', '기억', '플리', '요즘', '이', '플리', '조음', '제', '순서대로', '어쩜', '플리', '맘', '듭니닷', '쪼끔', '산책', '아마', '우리', '잘못', '이', '꾸벅', '여', '마구', '막내', '마지막', '부분', '음원', '수', '목소리', '수', '림', '노래', '사랑', '매장', '린', '노래', '정도', '요', '물고기', '중간', '탁탁', '소리', '노무', '노무', '드럼']\n"
     ]
    }
   ],
   "source": [
    "nouns = nlpy.nouns(str_list)\n",
    "print(nouns)"
   ]
  },
  {
   "cell_type": "code",
   "execution_count": 59,
   "id": "98f1103c",
   "metadata": {},
   "outputs": [
    {
     "name": "stdout",
     "output_type": "stream",
     "text": [
      "['음색', '진짜']\n"
     ]
    }
   ],
   "source": [
    "print(nouns)"
   ]
  },
  {
   "cell_type": "code",
   "execution_count": 83,
   "id": "68a886cb",
   "metadata": {},
   "outputs": [],
   "source": [
    "sisjoa = \"막내\""
   ]
  },
  {
   "cell_type": "code",
   "execution_count": 82,
   "id": "f2cc0bff",
   "metadata": {
    "scrolled": true
   },
   "outputs": [
    {
     "name": "stdout",
     "output_type": "stream",
     "text": [
      "['국뽕', '아', '금수', '금식', '체급', '충']\n"
     ]
    }
   ],
   "source": [
    "print(nlpy.nouns(sisjoa))"
   ]
  },
  {
   "cell_type": "code",
   "execution_count": 88,
   "id": "4e2ce559",
   "metadata": {},
   "outputs": [
    {
     "data": {
      "text/plain": [
       "True"
      ]
     },
     "execution_count": 88,
     "metadata": {},
     "output_type": "execute_result"
    }
   ],
   "source": [
    "nouns[0] == sisjoa"
   ]
  },
  {
   "cell_type": "raw",
   "id": "a514d3c1",
   "metadata": {},
   "source": [
    "# 신조어 text 파일 만들기"
   ]
  },
  {
   "cell_type": "code",
   "execution_count": 109,
   "id": "c1d22f87",
   "metadata": {},
   "outputs": [],
   "source": [
    "f = open('new_language.txt', 'w')"
   ]
  },
  {
   "cell_type": "code",
   "execution_count": 108,
   "id": "e37f4cd1",
   "metadata": {},
   "outputs": [],
   "source": [
    "!rm new_language.txt"
   ]
  },
  {
   "cell_type": "code",
   "execution_count": 94,
   "id": "e888c0de",
   "metadata": {},
   "outputs": [
    {
     "name": "stdout",
     "output_type": "stream",
     "text": [
      "chromedriver  chromedriver_linux64.zip\tnew_language.txt  selenium_start.ipynb\r\n"
     ]
    }
   ],
   "source": [
    "!ls"
   ]
  },
  {
   "cell_type": "code",
   "execution_count": 110,
   "id": "7d3e2749",
   "metadata": {},
   "outputs": [
    {
     "name": "stdout",
     "output_type": "stream",
     "text": [
      "막내\n",
      "그게\n",
      "윤석\n",
      "철\n",
      "한계\n",
      "새\n",
      "물고기\n",
      "왜\n",
      "날\n",
      "광고\n",
      "자동\n",
      "삽입\n",
      "영상\n",
      "광고\n",
      "수익\n",
      "음원\n",
      "저작권\n",
      "모두\n",
      "백예린\n",
      "노래\n",
      "모음\n",
      "음색\n",
      "진짜\n",
      "노래\n",
      "플레이\n",
      "리스트\n",
      "처음\n",
      "끝\n",
      "노래\n",
      "백예린\n",
      "화이팅\n",
      "헤헤\n",
      "어어\n",
      "무\n",
      "역시\n",
      "린\n",
      "플리\n",
      "개인\n",
      "린퀸\n",
      "가사\n",
      "영어\n",
      "한글\n",
      "가사도\n",
      "윤석\n",
      "철\n",
      "곡\n",
      "사랑\n",
      "구나\n",
      "도\n",
      "리믹스\n",
      "사랑\n",
      "아주\n",
      "기억\n",
      "플리\n",
      "요즘\n",
      "이\n",
      "플리\n",
      "조음\n",
      "제\n",
      "순서대로\n",
      "어쩜\n",
      "플리\n",
      "맘\n",
      "듭니닷\n",
      "쪼끔\n",
      "산책\n",
      "아마\n",
      "우리\n",
      "잘못\n",
      "이\n",
      "꾸벅\n",
      "여\n",
      "마구\n",
      "막내\n",
      "마지막\n",
      "부분\n",
      "음원\n",
      "수\n",
      "목소리\n",
      "수\n",
      "림\n",
      "노래\n",
      "사랑\n",
      "매장\n",
      "린\n",
      "노래\n",
      "정도\n",
      "요\n",
      "물고기\n",
      "중간\n",
      "탁탁\n",
      "소리\n",
      "노무\n",
      "노무\n",
      "드럼\n"
     ]
    }
   ],
   "source": [
    "for i in nouns:\n",
    "    f.write(i + \"\\n\")\n",
    "    print(i)\n"
   ]
  },
  {
   "cell_type": "code",
   "execution_count": 111,
   "id": "39cacdec",
   "metadata": {},
   "outputs": [],
   "source": [
    "f.close()"
   ]
  },
  {
   "cell_type": "code",
   "execution_count": 130,
   "id": "09228d3c",
   "metadata": {},
   "outputs": [],
   "source": [
    "o_f = open('./new_language.txt', 'r')"
   ]
  },
  {
   "cell_type": "code",
   "execution_count": 132,
   "id": "b7b3d744",
   "metadata": {},
   "outputs": [
    {
     "name": "stdout",
     "output_type": "stream",
     "text": [
      "그게\n",
      "\n"
     ]
    }
   ],
   "source": [
    "a = o_f.readline()\n",
    "print(a)"
   ]
  },
  {
   "cell_type": "code",
   "execution_count": 133,
   "id": "386525ad",
   "metadata": {},
   "outputs": [
    {
     "name": "stdout",
     "output_type": "stream",
     "text": [
      "윤석\n",
      "\n",
      "철\n",
      "\n",
      "한계\n",
      "\n",
      "새\n",
      "\n",
      "물고기\n",
      "\n",
      "왜\n",
      "\n",
      "날\n",
      "\n",
      "광고\n",
      "\n",
      "자동\n",
      "\n",
      "삽입\n",
      "\n",
      "영상\n",
      "\n",
      "광고\n",
      "\n",
      "수익\n",
      "\n",
      "음원\n",
      "\n",
      "저작권\n",
      "\n",
      "모두\n",
      "\n",
      "백예린\n",
      "\n",
      "노래\n",
      "\n",
      "모음\n",
      "\n",
      "음색\n",
      "\n",
      "진짜\n",
      "\n",
      "노래\n",
      "\n",
      "플레이\n",
      "\n",
      "리스트\n",
      "\n",
      "처음\n",
      "\n",
      "끝\n",
      "\n",
      "노래\n",
      "\n",
      "백예린\n",
      "\n",
      "화이팅\n",
      "\n",
      "헤헤\n",
      "\n",
      "어어\n",
      "\n",
      "무\n",
      "\n",
      "역시\n",
      "\n",
      "린\n",
      "\n",
      "플리\n",
      "\n",
      "개인\n",
      "\n",
      "린퀸\n",
      "\n",
      "가사\n",
      "\n",
      "영어\n",
      "\n",
      "한글\n",
      "\n",
      "가사도\n",
      "\n",
      "윤석\n",
      "\n",
      "철\n",
      "\n",
      "곡\n",
      "\n",
      "사랑\n",
      "\n",
      "구나\n",
      "\n",
      "도\n",
      "\n",
      "리믹스\n",
      "\n",
      "사랑\n",
      "\n",
      "아주\n",
      "\n",
      "기억\n",
      "\n",
      "플리\n",
      "\n",
      "요즘\n",
      "\n",
      "이\n",
      "\n",
      "플리\n",
      "\n",
      "조음\n",
      "\n",
      "제\n",
      "\n",
      "순서대로\n",
      "\n",
      "어쩜\n",
      "\n",
      "플리\n",
      "\n",
      "맘\n",
      "\n",
      "듭니닷\n",
      "\n",
      "쪼끔\n",
      "\n",
      "산책\n",
      "\n",
      "아마\n",
      "\n",
      "우리\n",
      "\n",
      "잘못\n",
      "\n",
      "이\n",
      "\n",
      "꾸벅\n",
      "\n",
      "여\n",
      "\n",
      "마구\n",
      "\n",
      "막내\n",
      "\n",
      "마지막\n",
      "\n",
      "부분\n",
      "\n",
      "음원\n",
      "\n",
      "수\n",
      "\n",
      "목소리\n",
      "\n",
      "수\n",
      "\n",
      "림\n",
      "\n",
      "노래\n",
      "\n",
      "사랑\n",
      "\n",
      "매장\n",
      "\n",
      "린\n",
      "\n",
      "노래\n",
      "\n",
      "정도\n",
      "\n",
      "요\n",
      "\n",
      "물고기\n",
      "\n",
      "중간\n",
      "\n",
      "탁탁\n",
      "\n",
      "소리\n",
      "\n",
      "노무\n",
      "\n",
      "노무\n",
      "\n",
      "드럼\n",
      "\n"
     ]
    }
   ],
   "source": [
    "while True:\n",
    "    a = o_f.readline()\n",
    "    new_languag.append(a)\n",
    "    if not a:\n",
    "        break\n",
    "    print(a)"
   ]
  },
  {
   "cell_type": "code",
   "execution_count": 129,
   "id": "d9a743be",
   "metadata": {},
   "outputs": [],
   "source": [
    "o_f.close()"
   ]
  },
  {
   "cell_type": "code",
   "execution_count": 116,
   "id": "8763199c",
   "metadata": {},
   "outputs": [],
   "source": [
    "new_languag = []"
   ]
  },
  {
   "cell_type": "code",
   "execution_count": 126,
   "id": "dce83a69",
   "metadata": {},
   "outputs": [
    {
     "ename": "ValueError",
     "evalue": "I/O operation on closed file.",
     "output_type": "error",
     "traceback": [
      "\u001b[0;31m---------------------------------------------------------------------------\u001b[0m",
      "\u001b[0;31mValueError\u001b[0m                                Traceback (most recent call last)",
      "\u001b[0;32m/tmp/ipykernel_483168/3526741846.py\u001b[0m in \u001b[0;36m<module>\u001b[0;34m\u001b[0m\n\u001b[1;32m      1\u001b[0m \u001b[0;32mwhile\u001b[0m \u001b[0;32mTrue\u001b[0m\u001b[0;34m:\u001b[0m\u001b[0;34m\u001b[0m\u001b[0;34m\u001b[0m\u001b[0m\n\u001b[0;32m----> 2\u001b[0;31m     \u001b[0ma\u001b[0m \u001b[0;34m=\u001b[0m \u001b[0mo_f\u001b[0m\u001b[0;34m.\u001b[0m\u001b[0mreadline\u001b[0m\u001b[0;34m(\u001b[0m\u001b[0;34m)\u001b[0m\u001b[0;34m\u001b[0m\u001b[0;34m\u001b[0m\u001b[0m\n\u001b[0m\u001b[1;32m      3\u001b[0m     \u001b[0;32mif\u001b[0m \u001b[0;32mnot\u001b[0m \u001b[0ma\u001b[0m\u001b[0;34m:\u001b[0m\u001b[0;34m\u001b[0m\u001b[0;34m\u001b[0m\u001b[0m\n\u001b[1;32m      4\u001b[0m         \u001b[0;32mbreak\u001b[0m\u001b[0;34m\u001b[0m\u001b[0;34m\u001b[0m\u001b[0m\n\u001b[1;32m      5\u001b[0m     \u001b[0mprint\u001b[0m\u001b[0;34m(\u001b[0m\u001b[0ma\u001b[0m\u001b[0;34m)\u001b[0m\u001b[0;34m\u001b[0m\u001b[0;34m\u001b[0m\u001b[0m\n",
      "\u001b[0;31mValueError\u001b[0m: I/O operation on closed file."
     ]
    }
   ],
   "source": [
    "while True:\n",
    "    a = o_f.readline()\n",
    "    if not a:\n",
    "        break\n",
    "    print(a)"
   ]
  },
  {
   "cell_type": "code",
   "execution_count": 124,
   "id": "40f0e704",
   "metadata": {},
   "outputs": [
    {
     "name": "stdout",
     "output_type": "stream",
     "text": [
      "\n"
     ]
    }
   ],
   "source": []
  },
  {
   "cell_type": "code",
   "execution_count": 118,
   "id": "d0f91a07",
   "metadata": {},
   "outputs": [
    {
     "data": {
      "text/plain": [
       "['']"
      ]
     },
     "execution_count": 118,
     "metadata": {},
     "output_type": "execute_result"
    }
   ],
   "source": [
    "new_languag"
   ]
  },
  {
   "cell_type": "code",
   "execution_count": 134,
   "id": "61db6041",
   "metadata": {},
   "outputs": [
    {
     "data": {
      "text/plain": [
       "['',\n",
       " '윤석\\n',\n",
       " '철\\n',\n",
       " '한계\\n',\n",
       " '새\\n',\n",
       " '물고기\\n',\n",
       " '왜\\n',\n",
       " '날\\n',\n",
       " '광고\\n',\n",
       " '자동\\n',\n",
       " '삽입\\n',\n",
       " '영상\\n',\n",
       " '광고\\n',\n",
       " '수익\\n',\n",
       " '음원\\n',\n",
       " '저작권\\n',\n",
       " '모두\\n',\n",
       " '백예린\\n',\n",
       " '노래\\n',\n",
       " '모음\\n',\n",
       " '음색\\n',\n",
       " '진짜\\n',\n",
       " '노래\\n',\n",
       " '플레이\\n',\n",
       " '리스트\\n',\n",
       " '처음\\n',\n",
       " '끝\\n',\n",
       " '노래\\n',\n",
       " '백예린\\n',\n",
       " '화이팅\\n',\n",
       " '헤헤\\n',\n",
       " '어어\\n',\n",
       " '무\\n',\n",
       " '역시\\n',\n",
       " '린\\n',\n",
       " '플리\\n',\n",
       " '개인\\n',\n",
       " '린퀸\\n',\n",
       " '가사\\n',\n",
       " '영어\\n',\n",
       " '한글\\n',\n",
       " '가사도\\n',\n",
       " '윤석\\n',\n",
       " '철\\n',\n",
       " '곡\\n',\n",
       " '사랑\\n',\n",
       " '구나\\n',\n",
       " '도\\n',\n",
       " '리믹스\\n',\n",
       " '사랑\\n',\n",
       " '아주\\n',\n",
       " '기억\\n',\n",
       " '플리\\n',\n",
       " '요즘\\n',\n",
       " '이\\n',\n",
       " '플리\\n',\n",
       " '조음\\n',\n",
       " '제\\n',\n",
       " '순서대로\\n',\n",
       " '어쩜\\n',\n",
       " '플리\\n',\n",
       " '맘\\n',\n",
       " '듭니닷\\n',\n",
       " '쪼끔\\n',\n",
       " '산책\\n',\n",
       " '아마\\n',\n",
       " '우리\\n',\n",
       " '잘못\\n',\n",
       " '이\\n',\n",
       " '꾸벅\\n',\n",
       " '여\\n',\n",
       " '마구\\n',\n",
       " '막내\\n',\n",
       " '마지막\\n',\n",
       " '부분\\n',\n",
       " '음원\\n',\n",
       " '수\\n',\n",
       " '목소리\\n',\n",
       " '수\\n',\n",
       " '림\\n',\n",
       " '노래\\n',\n",
       " '사랑\\n',\n",
       " '매장\\n',\n",
       " '린\\n',\n",
       " '노래\\n',\n",
       " '정도\\n',\n",
       " '요\\n',\n",
       " '물고기\\n',\n",
       " '중간\\n',\n",
       " '탁탁\\n',\n",
       " '소리\\n',\n",
       " '노무\\n',\n",
       " '노무\\n',\n",
       " '드럼\\n',\n",
       " '']"
      ]
     },
     "execution_count": 134,
     "metadata": {},
     "output_type": "execute_result"
    }
   ],
   "source": [
    "new_languag"
   ]
  },
  {
   "cell_type": "code",
   "execution_count": null,
   "id": "8c038b5d",
   "metadata": {},
   "outputs": [],
   "source": []
  }
 ],
 "metadata": {
  "kernelspec": {
   "display_name": "Python 3 (ipykernel)",
   "language": "python",
   "name": "python3"
  },
  "language_info": {
   "codemirror_mode": {
    "name": "ipython",
    "version": 3
   },
   "file_extension": ".py",
   "mimetype": "text/x-python",
   "name": "python",
   "nbconvert_exporter": "python",
   "pygments_lexer": "ipython3",
   "version": "3.10.4"
  }
 },
 "nbformat": 4,
 "nbformat_minor": 5
}
