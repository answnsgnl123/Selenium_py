{
 "cells": [
  {
   "cell_type": "markdown",
   "id": "20cf3fbb",
   "metadata": {},
   "source": [
    "# 크롬 드라이버 다운로드"
   ]
  },
  {
   "cell_type": "code",
   "execution_count": 1,
   "id": "5d9c002c",
   "metadata": {},
   "outputs": [
    {
     "name": "stdout",
     "output_type": "stream",
     "text": [
      "--2022-10-27 13:45:41--  https://chromedriver.storage.googleapis.com/107.0.5304.62/chromedriver_linux64.zip\n",
      "Resolving chromedriver.storage.googleapis.com (chromedriver.storage.googleapis.com)... 34.64.4.48, 2404:f340:10:1801::2010\n",
      "Connecting to chromedriver.storage.googleapis.com (chromedriver.storage.googleapis.com)|34.64.4.48|:443... connected.\n",
      "HTTP request sent, awaiting response... 200 OK\n",
      "Length: 7612689 (7.3M) [application/zip]\n",
      "Saving to: ‘chromedriver_linux64.zip’\n",
      "\n",
      "chromedriver_linux6 100%[===================>]   7.26M  9.86MB/s    in 0.7s    \n",
      "\n",
      "2022-10-27 13:45:42 (9.86 MB/s) - ‘chromedriver_linux64.zip’ saved [7612689/7612689]\n",
      "\n"
     ]
    }
   ],
   "source": [
    "!wget -N https://chromedriver.storage.googleapis.com/107.0.5304.62/chromedriver_linux64.zip"
   ]
  },
  {
   "cell_type": "code",
   "execution_count": 2,
   "id": "3dc29ebf",
   "metadata": {},
   "outputs": [
    {
     "name": "stdout",
     "output_type": "stream",
     "text": [
      "Untitled.ipynb\tchromedriver_linux64.zip\r\n"
     ]
    }
   ],
   "source": [
    "!ls"
   ]
  },
  {
   "cell_type": "code",
   "execution_count": 3,
   "id": "22217382",
   "metadata": {},
   "outputs": [
    {
     "name": "stdout",
     "output_type": "stream",
     "text": [
      "Archive:  chromedriver_linux64.zip\n",
      "  inflating: chromedriver            \n"
     ]
    }
   ],
   "source": [
    "!unzip chromedriver_linux64.zip"
   ]
  },
  {
   "cell_type": "code",
   "execution_count": 7,
   "id": "472200d5",
   "metadata": {},
   "outputs": [
    {
     "name": "stdout",
     "output_type": "stream",
     "text": [
      "total 22236\r\n",
      "drwxr-xr-x  3 root root     4096 10월 27 13:46 .\r\n",
      "drwxr-xr-x 11 root root     4096 10월 27 13:44 ..\r\n",
      "drwxr-xr-x  2 root root     4096 10월 27 13:45 .ipynb_checkpoints\r\n",
      "-rw-r--r--  1 root root       72 10월 27 13:45 Untitled.ipynb\r\n",
      "-rwxr-xr-x  1 root root 15134768 10월 20 12:29 chromedriver\r\n",
      "-rw-r--r--  1 root root  7612689 10월 25 21:20 chromedriver_linux64.zip\r\n"
     ]
    }
   ],
   "source": [
    "!ls -all"
   ]
  },
  {
   "cell_type": "markdown",
   "id": "5a1e3c6e",
   "metadata": {},
   "source": [
    "## chrom --version  확인\n",
    "[버전맞는 driver download]\n",
    "- https://sites.google.com/chromium.org/driver/"
   ]
  },
  {
   "cell_type": "code",
   "execution_count": 23,
   "id": "5853fd4a",
   "metadata": {},
   "outputs": [
    {
     "name": "stdout",
     "output_type": "stream",
     "text": [
      "Google Chrome 107.0.5304.68 \r\n"
     ]
    }
   ],
   "source": [
    "!google-chrome --version "
   ]
  },
  {
   "cell_type": "markdown",
   "id": "eb61bf7c",
   "metadata": {},
   "source": [
    "## 셀레니움 사용하기"
   ]
  },
  {
   "cell_type": "code",
   "execution_count": 48,
   "id": "a6748e55",
   "metadata": {},
   "outputs": [],
   "source": [
    "chrome_options = webdriver.ChromeOptions()\n",
    "chrome_options.add_argument('--headless')\n",
    "chrome_options.add_argument('--no-sandbox')\n",
    "chrome_options.add_argument(\"--single-process\")\n",
    "chrome_options.add_argument(\"--disable-dev-shm-usage\")\n",
    "path='/home/jun/test/chromedriver'\n",
    "driver = webdriver.Chrome(path, chrome_options=chrome_options)"
   ]
  },
  {
   "cell_type": "code",
   "execution_count": 49,
   "id": "29ac3497",
   "metadata": {},
   "outputs": [
    {
     "name": "stdout",
     "output_type": "stream",
     "text": [
      "/home/jun/test/chromedriver\n",
      "https://www.naver.com/\n"
     ]
    }
   ],
   "source": [
    "from pyvirtualdisplay import Display \n",
    "\n",
    "print(path)\n",
    "\n",
    "display = Display(visible=0, size=(1920, 1080)) \n",
    "display.start() \n",
    "\n",
    "\n",
    "driver.get(\"https://www.naver.com\") # naver 열기\n",
    "print(driver.current_url) # 현재 url 출력"
   ]
  },
  {
   "cell_type": "code",
   "execution_count": 44,
   "id": "ba76886a",
   "metadata": {},
   "outputs": [
    {
     "name": "stdout",
     "output_type": "stream",
     "text": [
      "https://www.naver.com/\n"
     ]
    }
   ],
   "source": [
    "print(driver.current_url)"
   ]
  },
  {
   "cell_type": "code",
   "execution_count": 45,
   "id": "729b71b2",
   "metadata": {},
   "outputs": [],
   "source": [
    "driver.close()"
   ]
  },
  {
   "cell_type": "code",
   "execution_count": 50,
   "id": "6fdeef07",
   "metadata": {},
   "outputs": [
    {
     "name": "stdout",
     "output_type": "stream",
     "text": [
      "https://www.naver.com/\n"
     ]
    }
   ],
   "source": [
    "print(driver.current_url)"
   ]
  },
  {
   "cell_type": "code",
   "execution_count": null,
   "id": "bb3dbbfa",
   "metadata": {},
   "outputs": [],
   "source": []
  }
 ],
 "metadata": {
  "kernelspec": {
   "display_name": "Python 3 (ipykernel)",
   "language": "python",
   "name": "python3"
  },
  "language_info": {
   "codemirror_mode": {
    "name": "ipython",
    "version": 3
   },
   "file_extension": ".py",
   "mimetype": "text/x-python",
   "name": "python",
   "nbconvert_exporter": "python",
   "pygments_lexer": "ipython3",
   "version": "3.10.4"
  }
 },
 "nbformat": 4,
 "nbformat_minor": 5
}
